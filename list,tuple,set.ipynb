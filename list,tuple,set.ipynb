{
 "cells": [
  {
   "cell_type": "code",
   "execution_count": 1,
   "id": "10d73895-cc7b-4003-ace3-74486a064870",
   "metadata": {},
   "outputs": [],
   "source": [
    "l =[54 , True ,7+8j ,542.21 ,\"raju\"]"
   ]
  },
  {
   "cell_type": "code",
   "execution_count": 2,
   "id": "83086dcc-beb9-4e96-a09b-431a40bdb697",
   "metadata": {},
   "outputs": [
    {
     "data": {
      "text/plain": [
       "list"
      ]
     },
     "execution_count": 2,
     "metadata": {},
     "output_type": "execute_result"
    }
   ],
   "source": [
    "type(l)"
   ]
  },
  {
   "cell_type": "code",
   "execution_count": 4,
   "id": "ec2d0e5f-199d-41e6-bd45-2c59d17b7ba4",
   "metadata": {},
   "outputs": [
    {
     "data": {
      "text/plain": [
       "['raju', 542.21, (7+8j), 54]"
      ]
     },
     "execution_count": 4,
     "metadata": {},
     "output_type": "execute_result"
    }
   ],
   "source": [
    "l[::-1]"
   ]
  },
  {
   "cell_type": "code",
   "execution_count": 7,
   "id": "69df4c51-9e96-4506-bb72-1ff6cc05e8d0",
   "metadata": {},
   "outputs": [
    {
     "data": {
      "text/plain": [
       "(7+8j)"
      ]
     },
     "execution_count": 7,
     "metadata": {},
     "output_type": "execute_result"
    }
   ],
   "source": [
    "l[1]"
   ]
  },
  {
   "cell_type": "code",
   "execution_count": 8,
   "id": "effad57b-5b34-41a8-9fb2-6392f02fd3b0",
   "metadata": {},
   "outputs": [
    {
     "data": {
      "text/plain": [
       "54"
      ]
     },
     "execution_count": 8,
     "metadata": {},
     "output_type": "execute_result"
    }
   ],
   "source": [
    "l[0]"
   ]
  },
  {
   "cell_type": "code",
   "execution_count": 9,
   "id": "b9a885b5-8b49-47fa-843b-ca4ea2d2ed10",
   "metadata": {},
   "outputs": [
    {
     "data": {
      "text/plain": [
       "(7+8j)"
      ]
     },
     "execution_count": 9,
     "metadata": {},
     "output_type": "execute_result"
    }
   ],
   "source": [
    "l[1]"
   ]
  },
  {
   "cell_type": "code",
   "execution_count": 10,
   "id": "ea12fa01-4684-432d-a856-194703b9b36e",
   "metadata": {},
   "outputs": [
    {
     "data": {
      "text/plain": [
       "542.21"
      ]
     },
     "execution_count": 10,
     "metadata": {},
     "output_type": "execute_result"
    }
   ],
   "source": [
    "l[2]"
   ]
  },
  {
   "cell_type": "code",
   "execution_count": 11,
   "id": "6a2ff400-8b89-49ba-90bf-c9d95fbcbb7c",
   "metadata": {},
   "outputs": [
    {
     "data": {
      "text/plain": [
       "[54, (7+8j), 542.21, 'raju']"
      ]
     },
     "execution_count": 11,
     "metadata": {},
     "output_type": "execute_result"
    }
   ],
   "source": [
    "l"
   ]
  },
  {
   "cell_type": "code",
   "execution_count": 13,
   "id": "c9fbfdd4-b7d8-4faf-9827-77ee563c480f",
   "metadata": {},
   "outputs": [
    {
     "data": {
      "text/plain": [
       "[54, (7+8j), 542.21]"
      ]
     },
     "execution_count": 13,
     "metadata": {},
     "output_type": "execute_result"
    }
   ],
   "source": [
    "l[0:3]"
   ]
  },
  {
   "cell_type": "code",
   "execution_count": 1,
   "id": "7b3cf070-73b7-4d1b-9151-989b3e1a7f0e",
   "metadata": {},
   "outputs": [],
   "source": [
    "m = [45,76,45.42,\"raj\",True,6+8j]"
   ]
  },
  {
   "cell_type": "code",
   "execution_count": 2,
   "id": "e66da791-de4f-4fbb-9dcf-103608a229b9",
   "metadata": {},
   "outputs": [
    {
     "ename": "NameError",
     "evalue": "name 'm' is not defined",
     "output_type": "error",
     "traceback": [
      "\u001b[0;31m---------------------------------------------------------------------------\u001b[0m",
      "\u001b[0;31mNameError\u001b[0m                                 Traceback (most recent call last)",
      "Cell \u001b[0;32mIn[2], line 1\u001b[0m\n\u001b[0;32m----> 1\u001b[0m \u001b[43mm\u001b[49m[\u001b[38;5;241m0\u001b[39m:\u001b[38;5;241m5\u001b[39m:\u001b[38;5;241m3\u001b[39m]\n",
      "\u001b[0;31mNameError\u001b[0m: name 'm' is not defined"
     ]
    }
   ],
   "source": [
    "m[0:5:3]"
   ]
  },
  {
   "cell_type": "code",
   "execution_count": 3,
   "id": "94a3fddd-6654-4254-a932-f933c1b8e2cd",
   "metadata": {},
   "outputs": [],
   "source": [
    "m = [45,76,45.42,\"raj\",True,6+8j]"
   ]
  },
  {
   "cell_type": "code",
   "execution_count": 4,
   "id": "d5e92fc7-859b-410a-a575-0fe3d5337f68",
   "metadata": {},
   "outputs": [
    {
     "data": {
      "text/plain": [
       "[45, 'raj']"
      ]
     },
     "execution_count": 4,
     "metadata": {},
     "output_type": "execute_result"
    }
   ],
   "source": [
    "m[0:5:3]"
   ]
  },
  {
   "cell_type": "code",
   "execution_count": 5,
   "id": "7adccf6e-cf9d-4d3e-ae96-9c2d659bd756",
   "metadata": {},
   "outputs": [
    {
     "data": {
      "text/plain": [
       "[45, 45.42, True]"
      ]
     },
     "execution_count": 5,
     "metadata": {},
     "output_type": "execute_result"
    }
   ],
   "source": [
    "m[::2]"
   ]
  },
  {
   "cell_type": "code",
   "execution_count": 6,
   "id": "12a95e09-50d9-4b41-add5-0e51a538181f",
   "metadata": {},
   "outputs": [],
   "source": [
    "n=\"rajupratap\""
   ]
  },
  {
   "cell_type": "code",
   "execution_count": 7,
   "id": "25b755e2-d166-4d05-9e50-b2765f4edeaf",
   "metadata": {},
   "outputs": [
    {
     "ename": "TypeError",
     "evalue": "can only concatenate list (not \"str\") to list",
     "output_type": "error",
     "traceback": [
      "\u001b[0;31m---------------------------------------------------------------------------\u001b[0m",
      "\u001b[0;31mTypeError\u001b[0m                                 Traceback (most recent call last)",
      "Cell \u001b[0;32mIn[7], line 1\u001b[0m\n\u001b[0;32m----> 1\u001b[0m \u001b[43mm\u001b[49m\u001b[38;5;241;43m+\u001b[39;49m\u001b[43mn\u001b[49m\n",
      "\u001b[0;31mTypeError\u001b[0m: can only concatenate list (not \"str\") to list"
     ]
    }
   ],
   "source": [
    "m+n"
   ]
  },
  {
   "cell_type": "code",
   "execution_count": 9,
   "id": "c9390ec5-fb0b-429a-a88e-e9d98acf71cc",
   "metadata": {},
   "outputs": [
    {
     "data": {
      "text/plain": [
       "['r', 'a', 'j', 'u', 'p', 'r', 'a', 't', 'a', 'p']"
      ]
     },
     "execution_count": 9,
     "metadata": {},
     "output_type": "execute_result"
    }
   ],
   "source": [
    "list(n)"
   ]
  },
  {
   "cell_type": "code",
   "execution_count": 10,
   "id": "0c4373d8-1c67-4cc1-89b6-2b33214b0f79",
   "metadata": {},
   "outputs": [
    {
     "data": {
      "text/plain": [
       "['r',\n",
       " 'a',\n",
       " 'j',\n",
       " 'u',\n",
       " 'p',\n",
       " 'r',\n",
       " 'a',\n",
       " 't',\n",
       " 'a',\n",
       " 'p',\n",
       " 45,\n",
       " 76,\n",
       " 45.42,\n",
       " 'raj',\n",
       " True,\n",
       " (6+8j)]"
      ]
     },
     "execution_count": 10,
     "metadata": {},
     "output_type": "execute_result"
    }
   ],
   "source": [
    "list(n) + m"
   ]
  },
  {
   "cell_type": "code",
   "execution_count": 11,
   "id": "614812c7-3a05-40b1-81f9-3bf6eb2c9b63",
   "metadata": {},
   "outputs": [
    {
     "data": {
      "text/plain": [
       "[45, 76, 45.42, 'raj', True, (6+8j)]"
      ]
     },
     "execution_count": 11,
     "metadata": {},
     "output_type": "execute_result"
    }
   ],
   "source": [
    "m"
   ]
  },
  {
   "cell_type": "code",
   "execution_count": 12,
   "id": "ea8aaeb3-c580-4689-8d23-ce537b668014",
   "metadata": {},
   "outputs": [
    {
     "data": {
      "text/plain": [
       "'raj'"
      ]
     },
     "execution_count": 12,
     "metadata": {},
     "output_type": "execute_result"
    }
   ],
   "source": [
    "m[3]"
   ]
  },
  {
   "cell_type": "code",
   "execution_count": 13,
   "id": "3714164d-de76-42af-814b-c6245dbf06a7",
   "metadata": {},
   "outputs": [
    {
     "data": {
      "text/plain": [
       "'r'"
      ]
     },
     "execution_count": 13,
     "metadata": {},
     "output_type": "execute_result"
    }
   ],
   "source": [
    "m[3][0:1]"
   ]
  },
  {
   "cell_type": "code",
   "execution_count": 14,
   "id": "cb5978e4-0c26-44b7-a594-1edfa51d221f",
   "metadata": {},
   "outputs": [
    {
     "ename": "TypeError",
     "evalue": "'bool' object is not subscriptable",
     "output_type": "error",
     "traceback": [
      "\u001b[0;31m---------------------------------------------------------------------------\u001b[0m",
      "\u001b[0;31mTypeError\u001b[0m                                 Traceback (most recent call last)",
      "Cell \u001b[0;32mIn[14], line 1\u001b[0m\n\u001b[0;32m----> 1\u001b[0m \u001b[43mm\u001b[49m\u001b[43m[\u001b[49m\u001b[38;5;241;43m4\u001b[39;49m\u001b[43m]\u001b[49m\u001b[43m[\u001b[49m\u001b[38;5;241;43m0\u001b[39;49m\u001b[43m:\u001b[49m\u001b[38;5;241;43m2\u001b[39;49m\u001b[43m]\u001b[49m\n",
      "\u001b[0;31mTypeError\u001b[0m: 'bool' object is not subscriptable"
     ]
    }
   ],
   "source": [
    "m[4][0:2]"
   ]
  },
  {
   "cell_type": "code",
   "execution_count": 15,
   "id": "1f1d0101-c4f7-49a5-b7f8-f0d7afab4180",
   "metadata": {},
   "outputs": [
    {
     "data": {
      "text/plain": [
       "'Tr'"
      ]
     },
     "execution_count": 15,
     "metadata": {},
     "output_type": "execute_result"
    }
   ],
   "source": [
    "str(m[4])[0:2]"
   ]
  },
  {
   "cell_type": "code",
   "execution_count": 17,
   "id": "c6498111-d440-4532-86b1-3519a8032cfb",
   "metadata": {},
   "outputs": [
    {
     "ename": "TypeError",
     "evalue": "can only concatenate list (not \"types.GenericAlias\") to list",
     "output_type": "error",
     "traceback": [
      "\u001b[0;31m---------------------------------------------------------------------------\u001b[0m",
      "\u001b[0;31mTypeError\u001b[0m                                 Traceback (most recent call last)",
      "Cell \u001b[0;32mIn[17], line 1\u001b[0m\n\u001b[0;32m----> 1\u001b[0m \u001b[43mm\u001b[49m\u001b[38;5;241;43m+\u001b[39;49m\u001b[38;5;28;43mlist\u001b[39;49m\u001b[43m[\u001b[49m\u001b[38;5;241;43m5\u001b[39;49m\u001b[43m]\u001b[49m\n",
      "\u001b[0;31mTypeError\u001b[0m: can only concatenate list (not \"types.GenericAlias\") to list"
     ]
    }
   ],
   "source": [
    "m+list[5]"
   ]
  },
  {
   "cell_type": "code",
   "execution_count": 18,
   "id": "a041a4cd-da20-4130-9421-3747ec8fa392",
   "metadata": {},
   "outputs": [],
   "source": [
    "m1=[21 , 5 ,2]"
   ]
  },
  {
   "cell_type": "code",
   "execution_count": 20,
   "id": "3f6ea012-0f2e-478b-b52e-4490e39d51d6",
   "metadata": {},
   "outputs": [
    {
     "data": {
      "text/plain": [
       "[21, 5, 2, 45, 76, 45.42, 'raj', True, (6+8j)]"
      ]
     },
     "execution_count": 20,
     "metadata": {},
     "output_type": "execute_result"
    }
   ],
   "source": [
    "m1+m"
   ]
  },
  {
   "cell_type": "code",
   "execution_count": 1,
   "id": "7bcc4a51-1a8d-45b3-ae41-60fb1abd8f69",
   "metadata": {},
   "outputs": [
    {
     "ename": "NameError",
     "evalue": "name 'm' is not defined",
     "output_type": "error",
     "traceback": [
      "\u001b[0;31m---------------------------------------------------------------------------\u001b[0m",
      "\u001b[0;31mNameError\u001b[0m                                 Traceback (most recent call last)",
      "Cell \u001b[0;32mIn[1], line 1\u001b[0m\n\u001b[0;32m----> 1\u001b[0m \u001b[43mm\u001b[49m\n",
      "\u001b[0;31mNameError\u001b[0m: name 'm' is not defined"
     ]
    }
   ],
   "source": [
    "m"
   ]
  },
  {
   "cell_type": "code",
   "execution_count": 2,
   "id": "58734ad2-aab1-4651-b180-248ea1dc69e2",
   "metadata": {},
   "outputs": [],
   "source": [
    "m = [45,76,45.42,\"raj\",True,6+8j]"
   ]
  },
  {
   "cell_type": "code",
   "execution_count": 5,
   "id": "903dd276-48d7-4602-a3cf-3e9c85f2e6a8",
   "metadata": {},
   "outputs": [
    {
     "data": {
      "text/plain": [
       "'ra'"
      ]
     },
     "execution_count": 5,
     "metadata": {},
     "output_type": "execute_result"
    }
   ],
   "source": [
    "m[3][0:2]"
   ]
  },
  {
   "cell_type": "code",
   "execution_count": 6,
   "id": "45ce9e0f-07b4-482a-bf37-3c9c6a92f25f",
   "metadata": {},
   "outputs": [
    {
     "data": {
      "text/plain": [
       "'raj'"
      ]
     },
     "execution_count": 6,
     "metadata": {},
     "output_type": "execute_result"
    }
   ],
   "source": [
    "m[3][0:3]"
   ]
  },
  {
   "cell_type": "code",
   "execution_count": 8,
   "id": "1c3386ea-404e-45b1-badc-89afd035ab23",
   "metadata": {},
   "outputs": [
    {
     "ename": "SyntaxError",
     "evalue": "invalid syntax (1873912207.py, line 1)",
     "output_type": "error",
     "traceback": [
      "\u001b[0;36m  Cell \u001b[0;32mIn[8], line 1\u001b[0;36m\u001b[0m\n\u001b[0;31m    m[4]str[0:2]\u001b[0m\n\u001b[0m        ^\u001b[0m\n\u001b[0;31mSyntaxError\u001b[0m\u001b[0;31m:\u001b[0m invalid syntax\n"
     ]
    }
   ],
   "source": [
    "m[4]str[0:2]"
   ]
  },
  {
   "cell_type": "code",
   "execution_count": 11,
   "id": "74e3128f-df51-44fc-ac49-d06087b63ec7",
   "metadata": {},
   "outputs": [
    {
     "data": {
      "text/plain": [
       "'Tr'"
      ]
     },
     "execution_count": 11,
     "metadata": {},
     "output_type": "execute_result"
    }
   ],
   "source": [
    "str(m[4])[0:2]"
   ]
  },
  {
   "cell_type": "code",
   "execution_count": 12,
   "id": "83832d69-46b7-488b-b19b-02bb79302675",
   "metadata": {},
   "outputs": [],
   "source": [
    "m = [45,76,45.42,\"raj\",True,6+8j]"
   ]
  },
  {
   "cell_type": "code",
   "execution_count": 15,
   "id": "667840b1-da8e-41f4-b376-e520ff9b767c",
   "metadata": {},
   "outputs": [
    {
     "ename": "TypeError",
     "evalue": "can only concatenate list (not \"types.GenericAlias\") to list",
     "output_type": "error",
     "traceback": [
      "\u001b[0;31m---------------------------------------------------------------------------\u001b[0m",
      "\u001b[0;31mTypeError\u001b[0m                                 Traceback (most recent call last)",
      "Cell \u001b[0;32mIn[15], line 1\u001b[0m\n\u001b[0;32m----> 1\u001b[0m \u001b[43mm\u001b[49m\u001b[38;5;241;43m+\u001b[39;49m\u001b[38;5;28;43mlist\u001b[39;49m\u001b[43m[\u001b[49m\u001b[38;5;241;43m10\u001b[39;49m\u001b[43m]\u001b[49m\n",
      "\u001b[0;31mTypeError\u001b[0m: can only concatenate list (not \"types.GenericAlias\") to list"
     ]
    }
   ],
   "source": [
    "m+list[10]"
   ]
  },
  {
   "cell_type": "code",
   "execution_count": 1,
   "id": "aface235-a001-42cd-8079-02d46a8d9a60",
   "metadata": {},
   "outputs": [],
   "source": [
    "o = [2, 3, 5]"
   ]
  },
  {
   "cell_type": "code",
   "execution_count": 2,
   "id": "e557dbc1-cd19-4132-acbc-f9e2344115e1",
   "metadata": {},
   "outputs": [
    {
     "ename": "NameError",
     "evalue": "name 'm' is not defined",
     "output_type": "error",
     "traceback": [
      "\u001b[0;31m---------------------------------------------------------------------------\u001b[0m",
      "\u001b[0;31mNameError\u001b[0m                                 Traceback (most recent call last)",
      "Cell \u001b[0;32mIn[2], line 1\u001b[0m\n\u001b[0;32m----> 1\u001b[0m \u001b[43mm\u001b[49m\u001b[38;5;241m+\u001b[39mo\n",
      "\u001b[0;31mNameError\u001b[0m: name 'm' is not defined"
     ]
    }
   ],
   "source": []
  },
  {
   "cell_type": "code",
   "execution_count": 3,
   "id": "3b24ae11-d3d9-42b6-94b9-ea0cf62fa3fb",
   "metadata": {},
   "outputs": [],
   "source": [
    "m = [45,76,45.42,\"raj\",True,6+8j]"
   ]
  },
  {
   "cell_type": "code",
   "execution_count": 4,
   "id": "f0a934d8-1e89-45e8-a937-a98334e8841f",
   "metadata": {},
   "outputs": [
    {
     "data": {
      "text/plain": [
       "[45, 76, 45.42, 'raj', True, (6+8j), 2, 3, 5]"
      ]
     },
     "execution_count": 4,
     "metadata": {},
     "output_type": "execute_result"
    }
   ],
   "source": [
    "m+o"
   ]
  },
  {
   "cell_type": "code",
   "execution_count": 5,
   "id": "0518f259-348e-4a81-9f62-7e6871a19a82",
   "metadata": {},
   "outputs": [
    {
     "data": {
      "text/plain": [
       "[45, 76, 45.42, 'raj', True, (6+8j)]"
      ]
     },
     "execution_count": 5,
     "metadata": {},
     "output_type": "execute_result"
    }
   ],
   "source": [
    "m"
   ]
  },
  {
   "cell_type": "code",
   "execution_count": 6,
   "id": "07a5205f-734f-49ee-8ba7-155497815ce3",
   "metadata": {},
   "outputs": [
    {
     "data": {
      "text/plain": [
       "6"
      ]
     },
     "execution_count": 6,
     "metadata": {},
     "output_type": "execute_result"
    }
   ],
   "source": [
    "len(m)"
   ]
  },
  {
   "cell_type": "code",
   "execution_count": 7,
   "id": "c11ca0d8-5f70-4357-bd7c-fc9067502626",
   "metadata": {},
   "outputs": [
    {
     "ename": "NameError",
     "evalue": "name 'l' is not defined",
     "output_type": "error",
     "traceback": [
      "\u001b[0;31m---------------------------------------------------------------------------\u001b[0m",
      "\u001b[0;31mNameError\u001b[0m                                 Traceback (most recent call last)",
      "Cell \u001b[0;32mIn[7], line 1\u001b[0m\n\u001b[0;32m----> 1\u001b[0m \u001b[43ml\u001b[49m\u001b[38;5;241m.\u001b[39mappend(\u001b[38;5;241m4\u001b[39m)\n",
      "\u001b[0;31mNameError\u001b[0m: name 'l' is not defined"
     ]
    }
   ],
   "source": [
    "m.append(4)"
   ]
  },
  {
   "cell_type": "code",
   "execution_count": 1,
   "id": "6d41bf7f-160a-4c4a-a9b4-496ff2fd1dbb",
   "metadata": {},
   "outputs": [
    {
     "ename": "NameError",
     "evalue": "name 'm' is not defined",
     "output_type": "error",
     "traceback": [
      "\u001b[0;31m---------------------------------------------------------------------------\u001b[0m",
      "\u001b[0;31mNameError\u001b[0m                                 Traceback (most recent call last)",
      "Cell \u001b[0;32mIn[1], line 1\u001b[0m\n\u001b[0;32m----> 1\u001b[0m \u001b[43mm\u001b[49m\n",
      "\u001b[0;31mNameError\u001b[0m: name 'm' is not defined"
     ]
    }
   ],
   "source": [
    "m"
   ]
  },
  {
   "cell_type": "code",
   "execution_count": 2,
   "id": "3800f0e6-7ede-41a7-b812-c1c777fce0c6",
   "metadata": {},
   "outputs": [],
   "source": [
    "m=[45, 76, 45.42, 'raj', True, (6+8j)]"
   ]
  },
  {
   "cell_type": "code",
   "execution_count": 3,
   "id": "8aa11faf-dbf3-475d-8315-9be53e80d91e",
   "metadata": {},
   "outputs": [],
   "source": [
    "p=\"rayu\""
   ]
  },
  {
   "cell_type": "code",
   "execution_count": 4,
   "id": "b370ad79-2606-4007-8232-dac6316ad5bb",
   "metadata": {},
   "outputs": [],
   "source": [
    "m.append(p)"
   ]
  },
  {
   "cell_type": "code",
   "execution_count": 5,
   "id": "7e0df1d6-f4d6-46b6-b23b-45f245b5136d",
   "metadata": {},
   "outputs": [
    {
     "data": {
      "text/plain": [
       "[45, 76, 45.42, 'raj', True, (6+8j), 'rayu']"
      ]
     },
     "execution_count": 5,
     "metadata": {},
     "output_type": "execute_result"
    }
   ],
   "source": [
    "m"
   ]
  },
  {
   "cell_type": "code",
   "execution_count": 6,
   "id": "ec763862-3db4-4f4b-9ae5-959f3828991b",
   "metadata": {},
   "outputs": [],
   "source": [
    "m.append(456)"
   ]
  },
  {
   "cell_type": "code",
   "execution_count": 7,
   "id": "62051cc1-8a88-444a-8a50-f06945d20563",
   "metadata": {},
   "outputs": [
    {
     "data": {
      "text/plain": [
       "[45, 76, 45.42, 'raj', True, (6+8j), 'rayu', 456]"
      ]
     },
     "execution_count": 7,
     "metadata": {},
     "output_type": "execute_result"
    }
   ],
   "source": [
    "m"
   ]
  },
  {
   "cell_type": "code",
   "execution_count": 8,
   "id": "b90d5a8e-2e5e-4306-a2aa-2f07d441e6f6",
   "metadata": {},
   "outputs": [],
   "source": [
    "p1=[1,2,3]"
   ]
  },
  {
   "cell_type": "code",
   "execution_count": 9,
   "id": "8f0ab9ec-3df6-4046-a01a-eba297b37c6d",
   "metadata": {},
   "outputs": [],
   "source": [
    "m.append(p1)"
   ]
  },
  {
   "cell_type": "code",
   "execution_count": 10,
   "id": "807bc75d-1d3c-4067-9ae0-63b7b6c4a70f",
   "metadata": {},
   "outputs": [
    {
     "data": {
      "text/plain": [
       "[45, 76, 45.42, 'raj', True, (6+8j), 'rayu', 456, [1, 2, 3]]"
      ]
     },
     "execution_count": 10,
     "metadata": {},
     "output_type": "execute_result"
    }
   ],
   "source": [
    "m"
   ]
  },
  {
   "cell_type": "code",
   "execution_count": 13,
   "id": "8fd5dbe6-9e0c-40bd-ba8a-bead6326e655",
   "metadata": {},
   "outputs": [
    {
     "data": {
      "text/plain": [
       "[1, 3]"
      ]
     },
     "execution_count": 13,
     "metadata": {},
     "output_type": "execute_result"
    }
   ],
   "source": [
    "m[8][::2]"
   ]
  },
  {
   "cell_type": "code",
   "execution_count": 14,
   "id": "9bece2a0-e285-4ca6-a0b9-7798716f15ba",
   "metadata": {},
   "outputs": [
    {
     "data": {
      "text/plain": [
       "3"
      ]
     },
     "execution_count": 14,
     "metadata": {},
     "output_type": "execute_result"
    }
   ],
   "source": [
    "m[-1][2]"
   ]
  },
  {
   "cell_type": "code",
   "execution_count": 15,
   "id": "088c04eb-4983-4b07-88e8-5e3d37f269e4",
   "metadata": {},
   "outputs": [
    {
     "data": {
      "text/plain": [
       "[45, 76, 45.42, 'raj', True, (6+8j), 'rayu', 456, [1, 2, 3]]"
      ]
     },
     "execution_count": 15,
     "metadata": {},
     "output_type": "execute_result"
    }
   ],
   "source": [
    "m"
   ]
  },
  {
   "cell_type": "code",
   "execution_count": 16,
   "id": "2afedcf9-7022-456a-957e-d540edd56a0d",
   "metadata": {},
   "outputs": [
    {
     "ename": "TypeError",
     "evalue": "'int' object is not iterable",
     "output_type": "error",
     "traceback": [
      "\u001b[0;31m---------------------------------------------------------------------------\u001b[0m",
      "\u001b[0;31mTypeError\u001b[0m                                 Traceback (most recent call last)",
      "Cell \u001b[0;32mIn[16], line 1\u001b[0m\n\u001b[0;32m----> 1\u001b[0m \u001b[43mm\u001b[49m\u001b[38;5;241;43m.\u001b[39;49m\u001b[43mextend\u001b[49m\u001b[43m(\u001b[49m\u001b[38;5;241;43m5\u001b[39;49m\u001b[43m)\u001b[49m\n",
      "\u001b[0;31mTypeError\u001b[0m: 'int' object is not iterable"
     ]
    }
   ],
   "source": [
    "m.extend(5)"
   ]
  },
  {
   "cell_type": "code",
   "execution_count": 17,
   "id": "a2a18ba9-f576-4e98-93c5-691b97c173f9",
   "metadata": {},
   "outputs": [],
   "source": [
    "m.extend(\"raj\")"
   ]
  },
  {
   "cell_type": "code",
   "execution_count": 18,
   "id": "7a094c53-662d-4362-bfd2-3a10647723a7",
   "metadata": {},
   "outputs": [
    {
     "data": {
      "text/plain": [
       "[45, 76, 45.42, 'raj', True, (6+8j), 'rayu', 456, [1, 2, 3], 'r', 'a', 'j']"
      ]
     },
     "execution_count": 18,
     "metadata": {},
     "output_type": "execute_result"
    }
   ],
   "source": [
    "m"
   ]
  },
  {
   "cell_type": "code",
   "execution_count": 21,
   "id": "6fb5333f-0e82-4f11-9cb4-b807ddf338d6",
   "metadata": {},
   "outputs": [],
   "source": [
    "m.extend([2,3,4])"
   ]
  },
  {
   "cell_type": "code",
   "execution_count": 22,
   "id": "326a77d3-4a72-4cd1-896c-c0e1018f9b48",
   "metadata": {},
   "outputs": [
    {
     "data": {
      "text/plain": [
       "[45,\n",
       " 76,\n",
       " 45.42,\n",
       " 'raj',\n",
       " True,\n",
       " (6+8j),\n",
       " 'rayu',\n",
       " 456,\n",
       " [1, 2, 3],\n",
       " 'r',\n",
       " 'a',\n",
       " 'j',\n",
       " 2,\n",
       " 3,\n",
       " 4]"
      ]
     },
     "execution_count": 22,
     "metadata": {},
     "output_type": "execute_result"
    }
   ],
   "source": [
    "m"
   ]
  },
  {
   "cell_type": "code",
   "execution_count": 23,
   "id": "30c1bcb6-3da8-481f-b338-802d0dd357ae",
   "metadata": {},
   "outputs": [
    {
     "data": {
      "text/plain": [
       "[1, 2, 3]"
      ]
     },
     "execution_count": 23,
     "metadata": {},
     "output_type": "execute_result"
    }
   ],
   "source": [
    "p1"
   ]
  },
  {
   "cell_type": "code",
   "execution_count": 24,
   "id": "be3fda87-037d-41d7-ad23-f609286656e8",
   "metadata": {},
   "outputs": [],
   "source": [
    "p1.insert(0,\"raju\")"
   ]
  },
  {
   "cell_type": "code",
   "execution_count": 25,
   "id": "50280cb4-3a72-4894-8dbe-23ab1f801a40",
   "metadata": {},
   "outputs": [
    {
     "data": {
      "text/plain": [
       "['raju', 1, 2, 3]"
      ]
     },
     "execution_count": 25,
     "metadata": {},
     "output_type": "execute_result"
    }
   ],
   "source": [
    "p1"
   ]
  },
  {
   "cell_type": "code",
   "execution_count": 32,
   "id": "6622e74b-f820-4082-bd71-fa19d27e6345",
   "metadata": {},
   "outputs": [],
   "source": [
    "p1.insert(45,\"raj\")"
   ]
  },
  {
   "cell_type": "code",
   "execution_count": 33,
   "id": "dd067229-6e57-48ab-bd97-d1234f5027ab",
   "metadata": {},
   "outputs": [
    {
     "data": {
      "text/plain": [
       "['raju', 1, 45, 2, 3, 'raj']"
      ]
     },
     "execution_count": 33,
     "metadata": {},
     "output_type": "execute_result"
    }
   ],
   "source": [
    "p1"
   ]
  },
  {
   "cell_type": "code",
   "execution_count": 34,
   "id": "833f21ce-a5ab-43eb-9bdd-ce93a3347a2f",
   "metadata": {},
   "outputs": [],
   "source": [
    "p1.insert(0,[23,45,89])"
   ]
  },
  {
   "cell_type": "code",
   "execution_count": 35,
   "id": "5293f501-5682-4182-b612-2d6c9383f519",
   "metadata": {},
   "outputs": [
    {
     "data": {
      "text/plain": [
       "[[23, 45, 89], 'raju', 1, 45, 2, 3, 'raj']"
      ]
     },
     "execution_count": 35,
     "metadata": {},
     "output_type": "execute_result"
    }
   ],
   "source": [
    "p1"
   ]
  },
  {
   "cell_type": "code",
   "execution_count": 38,
   "id": "ad3d132c-e7b3-40e8-8488-91a7d2afce49",
   "metadata": {},
   "outputs": [],
   "source": [
    "p1.insert(-1,25)"
   ]
  },
  {
   "cell_type": "code",
   "execution_count": 39,
   "id": "c1262ec0-1d2e-479e-9725-27b06754d2e1",
   "metadata": {},
   "outputs": [
    {
     "data": {
      "text/plain": [
       "[[23, 45, 89], 'raju', 1, 45, 2, 3, 23, 25, 'raj']"
      ]
     },
     "execution_count": 39,
     "metadata": {},
     "output_type": "execute_result"
    }
   ],
   "source": [
    "p1"
   ]
  },
  {
   "cell_type": "code",
   "execution_count": 40,
   "id": "024bd39b-d203-4723-93d1-3b7d46103530",
   "metadata": {},
   "outputs": [
    {
     "data": {
      "text/plain": [
       "'raj'"
      ]
     },
     "execution_count": 40,
     "metadata": {},
     "output_type": "execute_result"
    }
   ],
   "source": [
    "p1.pop()"
   ]
  },
  {
   "cell_type": "code",
   "execution_count": 41,
   "id": "bb4ddded-68f5-4efc-9592-1ee9dfdac85d",
   "metadata": {},
   "outputs": [
    {
     "data": {
      "text/plain": [
       "[[23, 45, 89], 'raju', 1, 45, 2, 3, 23, 25]"
      ]
     },
     "execution_count": 41,
     "metadata": {},
     "output_type": "execute_result"
    }
   ],
   "source": [
    "p1"
   ]
  },
  {
   "cell_type": "code",
   "execution_count": 42,
   "id": "5ddc5b8f-64df-4b69-a0c9-63fec41caf40",
   "metadata": {},
   "outputs": [
    {
     "data": {
      "text/plain": [
       "1"
      ]
     },
     "execution_count": 42,
     "metadata": {},
     "output_type": "execute_result"
    }
   ],
   "source": [
    "p1.pop(2)"
   ]
  },
  {
   "cell_type": "code",
   "execution_count": 43,
   "id": "6929a149-90e1-411a-abb5-6151b659910e",
   "metadata": {},
   "outputs": [
    {
     "data": {
      "text/plain": [
       "[[23, 45, 89], 'raju', 45, 2, 3, 23, 25]"
      ]
     },
     "execution_count": 43,
     "metadata": {},
     "output_type": "execute_result"
    }
   ],
   "source": [
    "p1"
   ]
  },
  {
   "cell_type": "code",
   "execution_count": 44,
   "id": "0b79ac0a-bf95-4154-bb05-cd8a452396ca",
   "metadata": {},
   "outputs": [
    {
     "data": {
      "text/plain": [
       "23"
      ]
     },
     "execution_count": 44,
     "metadata": {},
     "output_type": "execute_result"
    }
   ],
   "source": [
    "p1.pop(-2)"
   ]
  },
  {
   "cell_type": "code",
   "execution_count": 45,
   "id": "be314823-23ca-432b-bc27-f947ed5620af",
   "metadata": {},
   "outputs": [
    {
     "data": {
      "text/plain": [
       "[[23, 45, 89], 'raju', 45, 2, 3, 25]"
      ]
     },
     "execution_count": 45,
     "metadata": {},
     "output_type": "execute_result"
    }
   ],
   "source": [
    "p1"
   ]
  },
  {
   "cell_type": "code",
   "execution_count": 48,
   "id": "a7f26200-f3ed-431e-b485-85e5794f716e",
   "metadata": {},
   "outputs": [
    {
     "ename": "SyntaxError",
     "evalue": "invalid syntax (2418986411.py, line 1)",
     "output_type": "error",
     "traceback": [
      "\u001b[0;36m  Cell \u001b[0;32mIn[48], line 1\u001b[0;36m\u001b[0m\n\u001b[0;31m    p1.remove(1,/)\u001b[0m\n\u001b[0m                ^\u001b[0m\n\u001b[0;31mSyntaxError\u001b[0m\u001b[0;31m:\u001b[0m invalid syntax\n"
     ]
    }
   ],
   "source": [
    "p1.remove(1,/)"
   ]
  },
  {
   "cell_type": "code",
   "execution_count": 1,
   "id": "5e021689-f6f4-4f0e-8b8d-30c557f15766",
   "metadata": {},
   "outputs": [
    {
     "ename": "NameError",
     "evalue": "name 'p1' is not defined",
     "output_type": "error",
     "traceback": [
      "\u001b[0;31m---------------------------------------------------------------------------\u001b[0m",
      "\u001b[0;31mNameError\u001b[0m                                 Traceback (most recent call last)",
      "Cell \u001b[0;32mIn[1], line 1\u001b[0m\n\u001b[0;32m----> 1\u001b[0m \u001b[43mp1\u001b[49m\n",
      "\u001b[0;31mNameError\u001b[0m: name 'p1' is not defined"
     ]
    }
   ],
   "source": [
    "p1"
   ]
  },
  {
   "cell_type": "code",
   "execution_count": 2,
   "id": "9d2cf167-26ae-445e-ba12-4c9ad27b5f11",
   "metadata": {},
   "outputs": [],
   "source": [
    "p1 = [[23, 45, 89], 'raju', 45, 2, 3, 25]"
   ]
  },
  {
   "cell_type": "code",
   "execution_count": 3,
   "id": "043bcc7c-481a-4e3b-9c2b-1c2088f62222",
   "metadata": {},
   "outputs": [],
   "source": [
    "p1.remove('raju')"
   ]
  },
  {
   "cell_type": "code",
   "execution_count": 4,
   "id": "880ee6ae-c8c0-42d6-bf8a-f110c8671fae",
   "metadata": {},
   "outputs": [
    {
     "data": {
      "text/plain": [
       "[[23, 45, 89], 45, 2, 3, 25]"
      ]
     },
     "execution_count": 4,
     "metadata": {},
     "output_type": "execute_result"
    }
   ],
   "source": [
    "p1"
   ]
  },
  {
   "cell_type": "code",
   "execution_count": 5,
   "id": "eb5af136-ccf3-4d85-874a-237be4933992",
   "metadata": {},
   "outputs": [
    {
     "ename": "ValueError",
     "evalue": "list.remove(x): x not in list",
     "output_type": "error",
     "traceback": [
      "\u001b[0;31m---------------------------------------------------------------------------\u001b[0m",
      "\u001b[0;31mValueError\u001b[0m                                Traceback (most recent call last)",
      "Cell \u001b[0;32mIn[5], line 1\u001b[0m\n\u001b[0;32m----> 1\u001b[0m \u001b[43mp1\u001b[49m\u001b[38;5;241;43m.\u001b[39;49m\u001b[43mremove\u001b[49m\u001b[43m(\u001b[49m\u001b[38;5;241;43m545\u001b[39;49m\u001b[43m)\u001b[49m\n",
      "\u001b[0;31mValueError\u001b[0m: list.remove(x): x not in list"
     ]
    }
   ],
   "source": [
    "p1.remove(545)"
   ]
  },
  {
   "cell_type": "code",
   "execution_count": 6,
   "id": "03e45ee2-76f6-40d9-95fd-2e5c30e19cd9",
   "metadata": {},
   "outputs": [
    {
     "ename": "ValueError",
     "evalue": "list.remove(x): x not in list",
     "output_type": "error",
     "traceback": [
      "\u001b[0;31m---------------------------------------------------------------------------\u001b[0m",
      "\u001b[0;31mValueError\u001b[0m                                Traceback (most recent call last)",
      "Cell \u001b[0;32mIn[6], line 1\u001b[0m\n\u001b[0;32m----> 1\u001b[0m \u001b[43mp1\u001b[49m\u001b[38;5;241;43m.\u001b[39;49m\u001b[43mremove\u001b[49m\u001b[43m(\u001b[49m\u001b[43m[\u001b[49m\u001b[38;5;241;43m0\u001b[39;49m\u001b[43m]\u001b[49m\u001b[43m)\u001b[49m(\u001b[38;5;241m45\u001b[39m)\n",
      "\u001b[0;31mValueError\u001b[0m: list.remove(x): x not in list"
     ]
    }
   ],
   "source": [
    "p1.remove([0])(45)"
   ]
  },
  {
   "cell_type": "code",
   "execution_count": 7,
   "id": "b82e4ba2-d926-47bd-a400-d0767235cb0c",
   "metadata": {},
   "outputs": [],
   "source": [
    "p1[0].remove(89)"
   ]
  },
  {
   "cell_type": "code",
   "execution_count": 8,
   "id": "b7122f40-e014-41df-85e0-5c5fffd4e5e8",
   "metadata": {},
   "outputs": [
    {
     "data": {
      "text/plain": [
       "[[23, 45], 45, 2, 3, 25]"
      ]
     },
     "execution_count": 8,
     "metadata": {},
     "output_type": "execute_result"
    }
   ],
   "source": [
    "p1"
   ]
  },
  {
   "cell_type": "code",
   "execution_count": 10,
   "id": "e664adc5-f418-4967-a278-e3cda7d8b91c",
   "metadata": {},
   "outputs": [],
   "source": [
    "p2 = [2,\"rayu\",True,56.78,6+8j]"
   ]
  },
  {
   "cell_type": "code",
   "execution_count": 11,
   "id": "ccf05dbe-485b-4307-b1ca-3c7fcc550188",
   "metadata": {},
   "outputs": [
    {
     "ename": "AttributeError",
     "evalue": "'str' object has no attribute 'remove'",
     "output_type": "error",
     "traceback": [
      "\u001b[0;31m---------------------------------------------------------------------------\u001b[0m",
      "\u001b[0;31mAttributeError\u001b[0m                            Traceback (most recent call last)",
      "Cell \u001b[0;32mIn[11], line 1\u001b[0m\n\u001b[0;32m----> 1\u001b[0m \u001b[43mp2\u001b[49m\u001b[43m[\u001b[49m\u001b[38;5;241;43m1\u001b[39;49m\u001b[43m]\u001b[49m\u001b[38;5;241;43m.\u001b[39;49m\u001b[43mremove\u001b[49m(\u001b[38;5;124m\"\u001b[39m\u001b[38;5;124myu\u001b[39m\u001b[38;5;124m\"\u001b[39m)\n",
      "\u001b[0;31mAttributeError\u001b[0m: 'str' object has no attribute 'remove'"
     ]
    }
   ],
   "source": [
    "p2[1].remove(\"yu\")"
   ]
  },
  {
   "cell_type": "code",
   "execution_count": 13,
   "id": "0ce5ebef-79da-4200-b85b-869c17836884",
   "metadata": {},
   "outputs": [
    {
     "data": {
      "text/plain": [
       "[(6+8j), 56.78, True, 'rayu', 2]"
      ]
     },
     "execution_count": 13,
     "metadata": {},
     "output_type": "execute_result"
    }
   ],
   "source": [
    "p2[::-1]"
   ]
  },
  {
   "cell_type": "code",
   "execution_count": 14,
   "id": "2a194236-0a80-4ebf-881a-1e3475397231",
   "metadata": {},
   "outputs": [
    {
     "data": {
      "text/plain": [
       "[2, 'rayu', True, 56.78, (6+8j)]"
      ]
     },
     "execution_count": 14,
     "metadata": {},
     "output_type": "execute_result"
    }
   ],
   "source": [
    "p2"
   ]
  },
  {
   "cell_type": "code",
   "execution_count": 15,
   "id": "f85ea75d-b751-49c0-8b22-a576e159b091",
   "metadata": {},
   "outputs": [],
   "source": [
    "p2.reverse()"
   ]
  },
  {
   "cell_type": "code",
   "execution_count": 16,
   "id": "388a4c03-3976-4bdc-a6b1-bd83d7bcda16",
   "metadata": {},
   "outputs": [
    {
     "data": {
      "text/plain": [
       "[(6+8j), 56.78, True, 'rayu', 2]"
      ]
     },
     "execution_count": 16,
     "metadata": {},
     "output_type": "execute_result"
    }
   ],
   "source": [
    "p2"
   ]
  },
  {
   "cell_type": "code",
   "execution_count": 17,
   "id": "78c1cd58-19d7-450c-b055-0f54cbed4f4a",
   "metadata": {},
   "outputs": [
    {
     "data": {
      "text/plain": [
       "[(6+8j), 56.78, True, 'rayu', 2]"
      ]
     },
     "execution_count": 17,
     "metadata": {},
     "output_type": "execute_result"
    }
   ],
   "source": [
    "p2"
   ]
  },
  {
   "cell_type": "code",
   "execution_count": 1,
   "id": "648022b8-a092-46eb-a162-7e3eadd24865",
   "metadata": {},
   "outputs": [],
   "source": [
    "p3=[2,8,3,78,9,56,2,1,0,675]"
   ]
  },
  {
   "cell_type": "code",
   "execution_count": 2,
   "id": "3f58ba2e-fb64-4276-98ce-4cb4865f4015",
   "metadata": {},
   "outputs": [],
   "source": [
    "p3.sort()"
   ]
  },
  {
   "cell_type": "code",
   "execution_count": 3,
   "id": "2e45518c-c408-497b-a818-b87a19095e08",
   "metadata": {},
   "outputs": [
    {
     "data": {
      "text/plain": [
       "[0, 1, 2, 2, 3, 8, 9, 56, 78, 675]"
      ]
     },
     "execution_count": 3,
     "metadata": {},
     "output_type": "execute_result"
    }
   ],
   "source": [
    "p3"
   ]
  },
  {
   "cell_type": "code",
   "execution_count": 5,
   "id": "db345c61-d640-4c8d-adb7-aad857034825",
   "metadata": {},
   "outputs": [],
   "source": [
    "p4=[\"raj\",\"rajnish\",\"ankur\",\"izahar\"]"
   ]
  },
  {
   "cell_type": "raw",
   "id": "550bdc23-f0ff-4fdf-8194-ca9f0011043e",
   "metadata": {},
   "source": [
    "p4.sort()"
   ]
  },
  {
   "cell_type": "code",
   "execution_count": 6,
   "id": "ec8954ea-0844-4e37-9647-5b44526c86b5",
   "metadata": {},
   "outputs": [
    {
     "data": {
      "text/plain": [
       "['raj', 'rajnish', 'ankur', 'izahar']"
      ]
     },
     "execution_count": 6,
     "metadata": {},
     "output_type": "execute_result"
    }
   ],
   "source": [
    "p4"
   ]
  },
  {
   "cell_type": "code",
   "execution_count": 8,
   "id": "5ae27a4c-aa42-408e-a2db-5ba4dd83c85b",
   "metadata": {},
   "outputs": [],
   "source": [
    "p4.sort(reverse=False)"
   ]
  },
  {
   "cell_type": "code",
   "execution_count": 9,
   "id": "cbaf378c-6c28-462b-8b2d-7e7c822f48ca",
   "metadata": {},
   "outputs": [
    {
     "data": {
      "text/plain": [
       "['ankur', 'izahar', 'raj', 'rajnish']"
      ]
     },
     "execution_count": 9,
     "metadata": {},
     "output_type": "execute_result"
    }
   ],
   "source": [
    "p4"
   ]
  },
  {
   "cell_type": "code",
   "execution_count": 10,
   "id": "725805fc-49f1-4a63-a195-bb698f39ec47",
   "metadata": {},
   "outputs": [],
   "source": [
    "p4.sort(reverse=True)"
   ]
  },
  {
   "cell_type": "code",
   "execution_count": 11,
   "id": "d981c892-6702-4cb9-a9b8-3053dec402f7",
   "metadata": {},
   "outputs": [
    {
     "data": {
      "text/plain": [
       "['rajnish', 'raj', 'izahar', 'ankur']"
      ]
     },
     "execution_count": 11,
     "metadata": {},
     "output_type": "execute_result"
    }
   ],
   "source": [
    "p4"
   ]
  },
  {
   "cell_type": "code",
   "execution_count": 12,
   "id": "199c859b-676f-40eb-8dc2-c6ae3f42e8a1",
   "metadata": {},
   "outputs": [
    {
     "data": {
      "text/plain": [
       "['rajnish', 'raj', 'izahar', 'ankur']"
      ]
     },
     "execution_count": 12,
     "metadata": {},
     "output_type": "execute_result"
    }
   ],
   "source": [
    "p4"
   ]
  },
  {
   "cell_type": "code",
   "execution_count": 13,
   "id": "cf8a1f11-a6c8-4234-b843-ade993daad25",
   "metadata": {},
   "outputs": [
    {
     "data": {
      "text/plain": [
       "1"
      ]
     },
     "execution_count": 13,
     "metadata": {},
     "output_type": "execute_result"
    }
   ],
   "source": [
    "p4.index(\"raj\")"
   ]
  },
  {
   "cell_type": "code",
   "execution_count": 14,
   "id": "30403ef8-f7b7-43e8-9e85-1ee65218b7bc",
   "metadata": {},
   "outputs": [
    {
     "data": {
      "text/plain": [
       "1"
      ]
     },
     "execution_count": 14,
     "metadata": {},
     "output_type": "execute_result"
    }
   ],
   "source": [
    "p4.count(\"izahar\")"
   ]
  },
  {
   "cell_type": "code",
   "execution_count": 15,
   "id": "c4f13f7d-bb59-4af4-b0e0-0be6a34cf275",
   "metadata": {},
   "outputs": [],
   "source": [
    "r=\"raj\""
   ]
  },
  {
   "cell_type": "code",
   "execution_count": 24,
   "id": "58bd01ad-1a99-4b93-91fe-dac1f23013ad",
   "metadata": {},
   "outputs": [
    {
     "ename": "NameError",
     "evalue": "name 'k' is not defined",
     "output_type": "error",
     "traceback": [
      "\u001b[0;31m---------------------------------------------------------------------------\u001b[0m",
      "\u001b[0;31mNameError\u001b[0m                                 Traceback (most recent call last)",
      "Cell \u001b[0;32mIn[24], line 1\u001b[0m\n\u001b[0;32m----> 1\u001b[0m r[\u001b[38;5;241m0\u001b[39m]\u001b[38;5;241m=\u001b[39m\u001b[43mk\u001b[49m\n",
      "\u001b[0;31mNameError\u001b[0m: name 'k' is not defined"
     ]
    }
   ],
   "source": [
    "r[0]=k"
   ]
  },
  {
   "cell_type": "code",
   "execution_count": 18,
   "id": "b3ac8b64-5c9b-4936-b6ad-68537373d505",
   "metadata": {},
   "outputs": [],
   "source": [
    "p5=[1,3,5,6]"
   ]
  },
  {
   "cell_type": "code",
   "execution_count": 19,
   "id": "a3926565-5711-40fa-be3c-2d0b7b323028",
   "metadata": {},
   "outputs": [],
   "source": [
    "p5[0]=30"
   ]
  },
  {
   "cell_type": "code",
   "execution_count": 20,
   "id": "5a73f79e-6afa-45e1-9e47-dced8df34bcb",
   "metadata": {},
   "outputs": [
    {
     "data": {
      "text/plain": [
       "[30, 3, 5, 6]"
      ]
     },
     "execution_count": 20,
     "metadata": {},
     "output_type": "execute_result"
    }
   ],
   "source": [
    "p5"
   ]
  },
  {
   "cell_type": "code",
   "execution_count": 21,
   "id": "93bc24ee-b7d2-4125-9615-5b88a99cfeff",
   "metadata": {},
   "outputs": [],
   "source": [
    "r=\"raj\""
   ]
  },
  {
   "cell_type": "code",
   "execution_count": 27,
   "id": "c8385574-6700-436a-aca8-47e522fc47c0",
   "metadata": {},
   "outputs": [
    {
     "data": {
      "text/plain": [
       "'kaj'"
      ]
     },
     "execution_count": 27,
     "metadata": {},
     "output_type": "execute_result"
    }
   ],
   "source": [
    "r.replace(\"r\" ,\"k\")"
   ]
  },
  {
   "cell_type": "code",
   "execution_count": 28,
   "id": "63df4283-b67f-4da6-983a-12e5fe367cd6",
   "metadata": {},
   "outputs": [
    {
     "data": {
      "text/plain": [
       "'kaj'"
      ]
     },
     "execution_count": 28,
     "metadata": {},
     "output_type": "execute_result"
    }
   ],
   "source": [
    "r"
   ]
  },
  {
   "cell_type": "code",
   "execution_count": 29,
   "id": "3aaac071-8db8-487b-94bd-a6a01ca6feae",
   "metadata": {},
   "outputs": [],
   "source": [
    "t=(45,54,\"raj\",False,8+9j,85.12,[1,2,3])"
   ]
  },
  {
   "cell_type": "code",
   "execution_count": 30,
   "id": "628d0c32-f4ab-40d1-b9de-05d144bcddb1",
   "metadata": {},
   "outputs": [
    {
     "data": {
      "text/plain": [
       "(45, 54, 'raj', False, (8+9j), 85.12, [1, 2, 3])"
      ]
     },
     "execution_count": 30,
     "metadata": {},
     "output_type": "execute_result"
    }
   ],
   "source": [
    "t"
   ]
  },
  {
   "cell_type": "code",
   "execution_count": 2,
   "id": "70e7f370-b1f3-4347-a418-40c6a996bb23",
   "metadata": {},
   "outputs": [
    {
     "ename": "NameError",
     "evalue": "name 't' is not defined",
     "output_type": "error",
     "traceback": [
      "\u001b[0;31m---------------------------------------------------------------------------\u001b[0m",
      "\u001b[0;31mNameError\u001b[0m                                 Traceback (most recent call last)",
      "Cell \u001b[0;32mIn[2], line 1\u001b[0m\n\u001b[0;32m----> 1\u001b[0m \u001b[43mt\u001b[49m\n",
      "\u001b[0;31mNameError\u001b[0m: name 't' is not defined"
     ]
    }
   ],
   "source": [
    "t"
   ]
  },
  {
   "cell_type": "code",
   "execution_count": 3,
   "id": "c1a5433a-1136-45a6-96cf-505c6522e0c8",
   "metadata": {},
   "outputs": [],
   "source": [
    "t = (45, 54, 'raj', False, (8+9j), 85.12, [1, 2, 3])"
   ]
  },
  {
   "cell_type": "code",
   "execution_count": 5,
   "id": "7187f576-cbc1-4c0d-b104-bb7f643601a9",
   "metadata": {},
   "outputs": [
    {
     "data": {
      "text/plain": [
       "'rat'"
      ]
     },
     "execution_count": 5,
     "metadata": {},
     "output_type": "execute_result"
    }
   ],
   "source": [
    "t[2].replace(\"j\" , \"t\")"
   ]
  },
  {
   "cell_type": "code",
   "execution_count": 6,
   "id": "cf730026-151f-4f96-960b-b6659d01f026",
   "metadata": {},
   "outputs": [
    {
     "data": {
      "text/plain": [
       "tuple"
      ]
     },
     "execution_count": 6,
     "metadata": {},
     "output_type": "execute_result"
    }
   ],
   "source": [
    "type(t)"
   ]
  },
  {
   "cell_type": "code",
   "execution_count": 7,
   "id": "90609dfd-53f6-46a1-b2b9-efac91989cc2",
   "metadata": {},
   "outputs": [],
   "source": [
    "t1 = \"laptop\""
   ]
  },
  {
   "cell_type": "code",
   "execution_count": 8,
   "id": "720616e3-64dd-4d86-9d48-6f9e1ab9c68e",
   "metadata": {},
   "outputs": [
    {
     "data": {
      "text/plain": [
       "'lbptop'"
      ]
     },
     "execution_count": 8,
     "metadata": {},
     "output_type": "execute_result"
    }
   ],
   "source": [
    "t1.replace(\"a\" , \"b\")"
   ]
  },
  {
   "cell_type": "code",
   "execution_count": 9,
   "id": "57613311-e67e-4b1f-ab45-718f04bb7bb4",
   "metadata": {},
   "outputs": [
    {
     "data": {
      "text/plain": [
       "'laptop'"
      ]
     },
     "execution_count": 9,
     "metadata": {},
     "output_type": "execute_result"
    }
   ],
   "source": [
    "t1"
   ]
  },
  {
   "cell_type": "code",
   "execution_count": 10,
   "id": "e7e17630-a0bd-47f6-84d9-b3a5f2945bc4",
   "metadata": {},
   "outputs": [],
   "source": [
    "t1 = t1.replace(\"o\" ,\"c\")"
   ]
  },
  {
   "cell_type": "code",
   "execution_count": 11,
   "id": "8ddff17a-1658-410c-a36a-fd96397653a2",
   "metadata": {},
   "outputs": [
    {
     "data": {
      "text/plain": [
       "'laptcp'"
      ]
     },
     "execution_count": 11,
     "metadata": {},
     "output_type": "execute_result"
    }
   ],
   "source": [
    "t1"
   ]
  },
  {
   "cell_type": "code",
   "execution_count": 12,
   "id": "e8d35b51-6826-42e8-82f4-da082e845a79",
   "metadata": {},
   "outputs": [
    {
     "ename": "NameError",
     "evalue": "name 'l' is not defined",
     "output_type": "error",
     "traceback": [
      "\u001b[0;31m---------------------------------------------------------------------------\u001b[0m",
      "\u001b[0;31mNameError\u001b[0m                                 Traceback (most recent call last)",
      "Cell \u001b[0;32mIn[12], line 1\u001b[0m\n\u001b[0;32m----> 1\u001b[0m \u001b[43ml\u001b[49m\n",
      "\u001b[0;31mNameError\u001b[0m: name 'l' is not defined"
     ]
    }
   ],
   "source": []
  },
  {
   "cell_type": "code",
   "execution_count": 13,
   "id": "f86175f7-6419-4e49-ad47-2a0c01cf0aa0",
   "metadata": {},
   "outputs": [],
   "source": [
    "l =[54 , True ,7+8j ,542.21 ,\"raju\"]"
   ]
  },
  {
   "cell_type": "code",
   "execution_count": 14,
   "id": "37e75d45-8de8-4f49-9fce-bdb46f355637",
   "metadata": {},
   "outputs": [],
   "source": [
    "l[0]='three'"
   ]
  },
  {
   "cell_type": "code",
   "execution_count": 15,
   "id": "d1979616-264e-4155-a10e-41956d24eb15",
   "metadata": {},
   "outputs": [
    {
     "data": {
      "text/plain": [
       "['three', True, (7+8j), 542.21, 'raju']"
      ]
     },
     "execution_count": 15,
     "metadata": {},
     "output_type": "execute_result"
    }
   ],
   "source": [
    "l"
   ]
  },
  {
   "cell_type": "code",
   "execution_count": 16,
   "id": "5301962f-8efe-49ea-9196-90c7de7b4dc1",
   "metadata": {},
   "outputs": [
    {
     "data": {
      "text/plain": [
       "(45, 54, 'raj', False, (8+9j), 85.12, [1, 2, 3])"
      ]
     },
     "execution_count": 16,
     "metadata": {},
     "output_type": "execute_result"
    }
   ],
   "source": [
    "t"
   ]
  },
  {
   "cell_type": "code",
   "execution_count": 17,
   "id": "66dac458-0b13-4494-b885-0aa9dc0a9815",
   "metadata": {},
   "outputs": [
    {
     "ename": "TypeError",
     "evalue": "'tuple' object does not support item assignment",
     "output_type": "error",
     "traceback": [
      "\u001b[0;31m---------------------------------------------------------------------------\u001b[0m",
      "\u001b[0;31mTypeError\u001b[0m                                 Traceback (most recent call last)",
      "Cell \u001b[0;32mIn[17], line 1\u001b[0m\n\u001b[0;32m----> 1\u001b[0m \u001b[43mt\u001b[49m\u001b[43m[\u001b[49m\u001b[38;5;241;43m0\u001b[39;49m\u001b[43m]\u001b[49m\u001b[38;5;241m=\u001b[39m\u001b[38;5;124m\"\u001b[39m\u001b[38;5;124mrayu\u001b[39m\u001b[38;5;124m\"\u001b[39m\n",
      "\u001b[0;31mTypeError\u001b[0m: 'tuple' object does not support item assignment"
     ]
    }
   ],
   "source": [
    "t[0]=\"rayu\""
   ]
  },
  {
   "cell_type": "code",
   "execution_count": 21,
   "id": "9f27d8c1-4d60-4410-8154-f325ffe037e4",
   "metadata": {},
   "outputs": [
    {
     "data": {
      "text/plain": [
       "(45, 54, 'raj', False, (8+9j), 85.12, [1, 2, 3])"
      ]
     },
     "execution_count": 21,
     "metadata": {},
     "output_type": "execute_result"
    }
   ],
   "source": [
    "t"
   ]
  },
  {
   "cell_type": "code",
   "execution_count": 22,
   "id": "58e87465-1ce2-4e01-a40d-a54bcd10ef39",
   "metadata": {},
   "outputs": [
    {
     "data": {
      "text/plain": [
       "1"
      ]
     },
     "execution_count": 22,
     "metadata": {},
     "output_type": "execute_result"
    }
   ],
   "source": [
    "t.count(False)"
   ]
  },
  {
   "cell_type": "code",
   "execution_count": 23,
   "id": "8fadad20-eb65-4a73-8841-59fed2872c34",
   "metadata": {},
   "outputs": [
    {
     "data": {
      "text/plain": [
       "2"
      ]
     },
     "execution_count": 23,
     "metadata": {},
     "output_type": "execute_result"
    }
   ],
   "source": [
    "t.index(\"raj\")"
   ]
  },
  {
   "cell_type": "code",
   "execution_count": 25,
   "id": "12394d57-46ed-46a6-802f-06a4662f4972",
   "metadata": {},
   "outputs": [
    {
     "data": {
      "text/plain": [
       "3"
      ]
     },
     "execution_count": 25,
     "metadata": {},
     "output_type": "execute_result"
    }
   ],
   "source": [
    "t.index(False)"
   ]
  },
  {
   "cell_type": "code",
   "execution_count": 26,
   "id": "a0740845-aad7-4d80-af9c-6759b340dd2a",
   "metadata": {},
   "outputs": [],
   "source": [
    "s1={}"
   ]
  },
  {
   "cell_type": "code",
   "execution_count": 28,
   "id": "6c1f4c0b-7319-41f2-bcad-bd8b51292746",
   "metadata": {},
   "outputs": [
    {
     "data": {
      "text/plain": [
       "dict"
      ]
     },
     "execution_count": 28,
     "metadata": {},
     "output_type": "execute_result"
    }
   ],
   "source": [
    "type(s1)"
   ]
  },
  {
   "cell_type": "code",
   "execution_count": 29,
   "id": "2a82ca9a-8312-4b3c-ab28-37cc657a35fd",
   "metadata": {},
   "outputs": [],
   "source": [
    "s2={2,3,4,5,6}"
   ]
  },
  {
   "cell_type": "code",
   "execution_count": 30,
   "id": "3f12e6dc-54c3-4ed0-9183-02e36f426fff",
   "metadata": {},
   "outputs": [
    {
     "data": {
      "text/plain": [
       "set"
      ]
     },
     "execution_count": 30,
     "metadata": {},
     "output_type": "execute_result"
    }
   ],
   "source": [
    "type(s2)"
   ]
  },
  {
   "cell_type": "code",
   "execution_count": 1,
   "id": "dd8fc38b-2595-4abd-b2c8-a3f45b47ed33",
   "metadata": {},
   "outputs": [],
   "source": [
    "s3={2, 3, 3, \"raju\" ,False,6+8j}"
   ]
  },
  {
   "cell_type": "code",
   "execution_count": 2,
   "id": "b35a1fdc-a6f4-4658-9569-4ecafff5fa7d",
   "metadata": {},
   "outputs": [
    {
     "data": {
      "text/plain": [
       "set"
      ]
     },
     "execution_count": 2,
     "metadata": {},
     "output_type": "execute_result"
    }
   ],
   "source": [
    "type(s3)"
   ]
  },
  {
   "cell_type": "code",
   "execution_count": 3,
   "id": "d87d5e07-2f0a-421d-9fd6-dd8c5c46dd8f",
   "metadata": {},
   "outputs": [
    {
     "ename": "TypeError",
     "evalue": "unhashable type: 'list'",
     "output_type": "error",
     "traceback": [
      "\u001b[0;31m---------------------------------------------------------------------------\u001b[0m",
      "\u001b[0;31mTypeError\u001b[0m                                 Traceback (most recent call last)",
      "Cell \u001b[0;32mIn[3], line 1\u001b[0m\n\u001b[0;32m----> 1\u001b[0m s3\u001b[38;5;241m=\u001b[39m{\u001b[38;5;241m2\u001b[39m, \u001b[38;5;241m3\u001b[39m, \u001b[38;5;241m3\u001b[39m, \u001b[38;5;124m\"\u001b[39m\u001b[38;5;124mraju\u001b[39m\u001b[38;5;124m\"\u001b[39m ,\u001b[38;5;28;01mFalse\u001b[39;00m,\u001b[38;5;241m6\u001b[39m\u001b[38;5;241m+\u001b[39m\u001b[38;5;241m8\u001b[39mj,[\u001b[38;5;241m45\u001b[39m,\u001b[38;5;241m23\u001b[39m,\u001b[38;5;241m45\u001b[39m]}\n",
      "\u001b[0;31mTypeError\u001b[0m: unhashable type: 'list'"
     ]
    }
   ],
   "source": [
    "s3={2, 3, 3, \"raju\" ,False,6+8j,[45,23,45]}"
   ]
  },
  {
   "cell_type": "code",
   "execution_count": 4,
   "id": "6f057aea-2ed8-4389-982c-25c86a543f09",
   "metadata": {},
   "outputs": [],
   "source": [
    "s3={2, 3, 3, \"raju\" ,False,6+8j ,(12,45,78)}"
   ]
  },
  {
   "cell_type": "code",
   "execution_count": 9,
   "id": "bfaebc04-f8b7-4376-bf54-656d03ff2c83",
   "metadata": {},
   "outputs": [],
   "source": [
    "s4 ={1,12,12,1,21,21,2,2,1,2,12,12,12,3,4,5,4,2,8,1,2,3,4,12,'raju','raju'}"
   ]
  },
  {
   "cell_type": "code",
   "execution_count": 10,
   "id": "66053fd9-9c31-4679-add7-dfe2128979fd",
   "metadata": {},
   "outputs": [
    {
     "data": {
      "text/plain": [
       "{1, 12, 2, 21, 3, 4, 5, 8, 'raju'}"
      ]
     },
     "execution_count": 10,
     "metadata": {},
     "output_type": "execute_result"
    }
   ],
   "source": [
    "s4"
   ]
  },
  {
   "cell_type": "code",
   "execution_count": 11,
   "id": "024e4073-c1ba-4c5e-87f7-bd16591093e7",
   "metadata": {},
   "outputs": [],
   "source": [
    "l5=[1,12,12,1,21,21,2,2,1,2,12,12,12,3,4,5,4,2,8,1,2,3,4,12,'raju']"
   ]
  },
  {
   "cell_type": "code",
   "execution_count": 13,
   "id": "e5a046ac-212b-4119-b8e3-cbbdbd896297",
   "metadata": {},
   "outputs": [
    {
     "data": {
      "text/plain": [
       "{1, 12, 2, 21, 3, 4, 5, 8, 'raju'}"
      ]
     },
     "execution_count": 13,
     "metadata": {},
     "output_type": "execute_result"
    }
   ],
   "source": [
    "set(l5)"
   ]
  },
  {
   "cell_type": "code",
   "execution_count": 14,
   "id": "90779190-f9af-4784-8245-bfc77544e5c0",
   "metadata": {},
   "outputs": [
    {
     "data": {
      "text/plain": [
       "{(12, 45, 78), (6+8j), 2, 3, False, 'raju'}"
      ]
     },
     "execution_count": 14,
     "metadata": {},
     "output_type": "execute_result"
    }
   ],
   "source": [
    "s3"
   ]
  },
  {
   "cell_type": "code",
   "execution_count": 15,
   "id": "70b2d8b2-9ab0-4ca1-8971-0b46f2ffe127",
   "metadata": {},
   "outputs": [
    {
     "ename": "TypeError",
     "evalue": "'set' object is not subscriptable",
     "output_type": "error",
     "traceback": [
      "\u001b[0;31m---------------------------------------------------------------------------\u001b[0m",
      "\u001b[0;31mTypeError\u001b[0m                                 Traceback (most recent call last)",
      "Cell \u001b[0;32mIn[15], line 1\u001b[0m\n\u001b[0;32m----> 1\u001b[0m \u001b[43ms3\u001b[49m\u001b[43m[\u001b[49m\u001b[38;5;241;43m0\u001b[39;49m\u001b[43m]\u001b[49m\n",
      "\u001b[0;31mTypeError\u001b[0m: 'set' object is not subscriptable"
     ]
    }
   ],
   "source": [
    "s3[0]"
   ]
  },
  {
   "cell_type": "code",
   "execution_count": 16,
   "id": "ad857339-9391-4e10-9450-b5d21d5168bf",
   "metadata": {},
   "outputs": [],
   "source": [
    "s3.add(4)"
   ]
  },
  {
   "cell_type": "code",
   "execution_count": 17,
   "id": "9a3fe1ec-7055-4dd5-b3e0-1d72b21e0b75",
   "metadata": {},
   "outputs": [
    {
     "data": {
      "text/plain": [
       "{(12, 45, 78), (6+8j), 2, 3, 4, False, 'raju'}"
      ]
     },
     "execution_count": 17,
     "metadata": {},
     "output_type": "execute_result"
    }
   ],
   "source": [
    "s3"
   ]
  },
  {
   "cell_type": "code",
   "execution_count": 18,
   "id": "2a46bf52-7204-499e-b414-69291f33b5f5",
   "metadata": {},
   "outputs": [],
   "source": [
    "s3.remove(2)"
   ]
  },
  {
   "cell_type": "code",
   "execution_count": 19,
   "id": "0a63599d-81b9-4109-8175-d33ba88ff5f8",
   "metadata": {},
   "outputs": [
    {
     "data": {
      "text/plain": [
       "{(12, 45, 78), (6+8j), 3, 4, False, 'raju'}"
      ]
     },
     "execution_count": 19,
     "metadata": {},
     "output_type": "execute_result"
    }
   ],
   "source": [
    "s3"
   ]
  },
  {
   "cell_type": "code",
   "execution_count": null,
   "id": "c1525587-ed63-4e0b-a1e6-a7162c1c5a8d",
   "metadata": {},
   "outputs": [],
   "source": []
  }
 ],
 "metadata": {
  "kernelspec": {
   "display_name": "Python 3 (ipykernel)",
   "language": "python",
   "name": "python3"
  },
  "language_info": {
   "codemirror_mode": {
    "name": "ipython",
    "version": 3
   },
   "file_extension": ".py",
   "mimetype": "text/x-python",
   "name": "python",
   "nbconvert_exporter": "python",
   "pygments_lexer": "ipython3",
   "version": "3.10.8"
  }
 },
 "nbformat": 4,
 "nbformat_minor": 5
}
